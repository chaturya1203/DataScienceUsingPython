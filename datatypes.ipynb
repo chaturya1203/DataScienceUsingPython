{
 "cells": [
  {
   "cell_type": "markdown",
   "metadata": {},
   "source": [
    "#### standard data types\n"
   ]
  },
  {
   "cell_type": "code",
   "execution_count": 8,
   "metadata": {},
   "outputs": [
    {
     "name": "stdout",
     "output_type": "stream",
     "text": [
      "chaturya!\n",
      "c\n",
      "atu\n",
      "aturya!\n",
      "chaturya!chaturya!\n",
      "chaturya!TEST\n"
     ]
    }
   ],
   "source": [
    "str='chaturya!'\n",
    "print (str)\n",
    "print (str[0])\n",
    "print (str[2:5])\n",
    "print (str[2:])\n",
    "print (str *2)\n",
    "print (str+\"TEST\")\n"
   ]
  },
  {
   "cell_type": "code",
   "execution_count": 11,
   "metadata": {},
   "outputs": [
    {
     "name": "stdout",
     "output_type": "stream",
     "text": [
      "chatusuni\n"
     ]
    }
   ],
   "source": [
    "str1='chatu'\n",
    "str2='suni'\n",
    "print (str1+str2)"
   ]
  },
  {
   "cell_type": "code",
   "execution_count": 17,
   "metadata": {},
   "outputs": [
    {
     "name": "stdout",
     "output_type": "stream",
     "text": [
      "chsuniatu\n"
     ]
    }
   ],
   "source": [
    "str1='chatu'\n",
    "str2='suni'\n",
    "print (str1[0:2]+str2[0:4]+str1[2:5])"
   ]
  },
  {
   "cell_type": "code",
   "execution_count": 21,
   "metadata": {},
   "outputs": [
    {
     "name": "stdout",
     "output_type": "stream",
     "text": [
      "['chatu', 1203, 2.789, 'suni']\n",
      "chatu\n",
      "[1203, 2.789]\n",
      "suni\n"
     ]
    }
   ],
   "source": [
    "list=['chatu',1203,2.789,'suni']\n",
    "print (list)\n",
    "print (list[0])\n",
    "print (list[1:3])\n",
    "print (list[3])"
   ]
  },
  {
   "cell_type": "code",
   "execution_count": 26,
   "metadata": {},
   "outputs": [
    {
     "name": "stdout",
     "output_type": "stream",
     "text": [
      "1000\n",
      "['chatu', 1203, 'suni', 1216]\n"
     ]
    }
   ],
   "source": [
    "list1=['chatu',1203]\n",
    "list2=['suni',1216]\n",
    "list[0]=1000\n",
    "print (list[0])\n",
    "print (list1+list2)"
   ]
  },
  {
   "cell_type": "code",
   "execution_count": 29,
   "metadata": {},
   "outputs": [
    {
     "name": "stdout",
     "output_type": "stream",
     "text": [
      "['chatu', 1203]\n"
     ]
    }
   ],
   "source": [
    "tuple=['chatu',1203]\n",
    "print (tuple)"
   ]
  },
  {
   "cell_type": "code",
   "execution_count": 30,
   "metadata": {},
   "outputs": [
    {
     "name": "stdout",
     "output_type": "stream",
     "text": [
      "[1203, 1216]\n"
     ]
    }
   ],
   "source": [
    "tuple1=[1203]\n",
    "tuple2=[1216]\n",
    "print (tuple1+tuple2)"
   ]
  },
  {
   "cell_type": "code",
   "execution_count": 33,
   "metadata": {},
   "outputs": [
    {
     "name": "stdout",
     "output_type": "stream",
     "text": [
      "chatu\n"
     ]
    }
   ],
   "source": [
    "tuple1=['chatu']\n",
    "tuple2=['suni']\n",
    "print (tuple1[0])"
   ]
  },
  {
   "cell_type": "code",
   "execution_count": null,
   "metadata": {
    "collapsed": true
   },
   "outputs": [],
   "source": []
  }
 ],
 "metadata": {
  "kernelspec": {
   "display_name": "Python 3",
   "language": "python",
   "name": "python3"
  },
  "language_info": {
   "codemirror_mode": {
    "name": "ipython",
    "version": 3
   },
   "file_extension": ".py",
   "mimetype": "text/x-python",
   "name": "python",
   "nbconvert_exporter": "python",
   "pygments_lexer": "ipython3",
   "version": "3.6.3"
  }
 },
 "nbformat": 4,
 "nbformat_minor": 2
}
